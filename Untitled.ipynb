{
 "cells": [
  {
   "cell_type": "code",
   "execution_count": 3,
   "metadata": {},
   "outputs": [
    {
     "data": {
      "text/plain": [
       "0"
      ]
     },
     "execution_count": 3,
     "metadata": {},
     "output_type": "execute_result"
    }
   ],
   "source": [
    "import sys\n",
    "from PyQt5.QtWidgets import QApplication, QLabel, QMainWindow\n",
    "from PyQt5.QtCore import Qt\n",
    "\n",
    "# Subclass QMainWindow to customise your application's main window\n",
    "class MainWindow(QMainWindow):\n",
    "\n",
    "    def __init__(self, *args, **kwargs):\n",
    "        super(MainWindow, self).__init__(*args, **kwargs)\n",
    "\n",
    "        self.setWindowTitle(\"My Awesome App\")\n",
    "\n",
    "        label = QLabel(\"This is a PyQt5 window!\")\n",
    "\n",
    "        # The `Qt` namespace has a lot of attributes to customise\n",
    "        # widgets. See: http://doc.qt.io/qt-5/qt.html\n",
    "        label.setAlignment(Qt.AlignCenter)\n",
    "\n",
    "        # Set the central widget of the Window. Widget will expand\n",
    "        # to take up all the space in the window by default.\n",
    "        self.setCentralWidget(label)\n",
    "\n",
    "\n",
    "app = QApplication(sys.argv)\n",
    "\n",
    "window = MainWindow()\n",
    "window.show()\n",
    "\n",
    "app.exec_()"
   ]
  },
  {
   "cell_type": "code",
   "execution_count": null,
   "metadata": {},
   "outputs": [],
   "source": []
  }
 ],
 "metadata": {
  "kernelspec": {
   "display_name": "Python 3",
   "language": "python",
   "name": "python3"
  },
  "language_info": {
   "codemirror_mode": {
    "name": "ipython",
    "version": 3
   },
   "file_extension": ".py",
   "mimetype": "text/x-python",
   "name": "python",
   "nbconvert_exporter": "python",
   "pygments_lexer": "ipython3",
   "version": "3.6.5"
  }
 },
 "nbformat": 4,
 "nbformat_minor": 2
}
